{
 "cells": [
  {
   "cell_type": "markdown",
   "metadata": {},
   "source": [
    "# A Visual Proof that Neural Nets can Compute any Function\n",
    "\n",
    "A neural network can represent *any* function, this stands with only one hidden layer which means that very simple networks can be very powerful.\n",
    "This statment is called the universality theorem of neural networks.\n",
    "\n",
    "## Caveats\n",
    "\n",
    "  1. A neural network can not be used to *exactly* compute any function.\n",
    "  Neural networks give us apporximations, and by increasing the number of hidden neurons the approximation can be improved.\n",
    "  2. The class of functions which can be approximated are *continuous* functions.\n",
    "  \n",
    "## Properties of the Sigmoid Function\n",
    "\n",
    "When there is a large weight value for the sigmoid function, the function is essentially a step function.\n",
    "Let $ s $ be the position of the step, which means that $ s = - b / w $, where $ b $ is the bias and $ w $ is the weight. \n",
    "When computing for $ s $, $ w $ is given a large value so that the function is very steep, which makes the only variable $ b $, which moves the step to the right as $ s $ increases.\n",
    "\n",
    "A *bump* function is a step function that decreases the same amount that it increased, with $ h $ representing the height of the function.\n",
    "These neurons can be abstracted as `if-then-else` statements:\n",
    "  \n",
    "  if input >= step point:\n",
    "      add 1 to the weighted output\n",
    "  else:\n",
    "      add 0 to the weighted output\n",
    "      \n",
    "These neurons can be divided into $ N $ subintervals, which means if $ N $ is very large intricate functions can be reconstructed quite accurately.\n",
    "\n",
    "Refer to the [site](http://neuralnetworksanddeeplearning.com/chap4.html) for helpful diagrams and illusrations. "
   ]
  },
  {
   "cell_type": "code",
   "execution_count": null,
   "metadata": {
    "collapsed": true
   },
   "outputs": [],
   "source": []
  }
 ],
 "metadata": {
  "kernelspec": {
   "display_name": "Python [Root]",
   "language": "python",
   "name": "Python [Root]"
  },
  "language_info": {
   "codemirror_mode": {
    "name": "ipython",
    "version": 3
   },
   "file_extension": ".py",
   "mimetype": "text/x-python",
   "name": "python",
   "nbconvert_exporter": "python",
   "pygments_lexer": "ipython3",
   "version": "3.5.2"
  }
 },
 "nbformat": 4,
 "nbformat_minor": 0
}
