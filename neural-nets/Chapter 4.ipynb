{
 "cells": [
  {
   "cell_type": "markdown",
   "metadata": {},
   "source": [
    "# A Visual Proof that Neural Nets can Compute any Function\n",
    "\n",
    "A neural network can represent *any* function, this stands with only one hidden layer which means that very simple networks can be very powerful.\n",
    "This statment is called the universality theorem of neural networks.\n",
    "\n",
    "## Caveats\n",
    "\n",
    "  1. A neural network can not be used to *exactly* compute any function.\n",
    "  Neural networks give us apporximations, and by increasing the number of hidden neurons the approximation can be improved.\n",
    "  2. The class of functions which can be approximated are *continuous* functions."
   ]
  }
 ],
 "metadata": {
  "kernelspec": {
   "display_name": "Python [Root]",
   "language": "python",
   "name": "Python [Root]"
  },
  "language_info": {
   "codemirror_mode": {
    "name": "ipython",
    "version": 3
   },
   "file_extension": ".py",
   "mimetype": "text/x-python",
   "name": "python",
   "nbconvert_exporter": "python",
   "pygments_lexer": "ipython3",
   "version": "3.5.2"
  }
 },
 "nbformat": 4,
 "nbformat_minor": 0
}
