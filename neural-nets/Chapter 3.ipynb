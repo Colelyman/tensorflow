{
 "cells": [
  {
   "cell_type": "markdown",
   "metadata": {},
   "source": [
    "# Improving the Way Neural Networks Learn\n",
    "\n",
    "This chapter discusses an improved cost function, the cross-entropy cost function, regularization methods, initializing the weights better, and choosing better hyper-parameters. "
   ]
  },
  {
   "cell_type": "markdown",
   "metadata": {},
   "source": [
    "## Cross-Entropy Cost Function\n",
    "\n",
    "When we make large mistakes, we learn very quickly; however, when our errors are less well-defined we learn more slowly.\n",
    "This is not the case with neural networks, when they are grossly wrong they learn slower than if they are only marignally wrong.\n",
    "\n",
    "### The Equation and Its Properties\n",
    "\n",
    "The cross-entropy cost function is: $ C = -\\frac{1}{n} \\sum_x \\left[ y \\ln a + (1 - y)\\ln(1 - a) \\right] $, where $ n $ is the total number of training data, and the sum $ x $ is over all inputs, and $ y $ is the desired output.\n",
    "This is a suitable cost function because:\n",
    "\n",
    "1. It is non-negative, $ C \\gt 0 $.\n",
    "2. If the neuron's output is close to the desired output for all inputs, $ x $, then this function will be close to zero.\n",
    "\n",
    "These properties, expecially #2 contribute to the cross-entropy function being less susceptible to learning slowly when compared to the quadratic cost function.\n",
    "\n",
    "The partial derivative of the cross-entropy function with respect to the weight is: $ \\frac{\\partial C}{\\partial w_j} = \\frac{1}{n} \\sum_x \\frac{\\sigma'(z)x_j}{\\sigma(z)(1-\\sigma(z))} (\\sigma(z) - y) $, which when simplified is: $ \\frac{\\partial C}{\\partial w_j} = \\frac{1}{n} \\sum_x x_j (\\sigma(z) - y) $ because $ \\sigma'(z) = \\sigma(z)(1 - \\sigma(z)) $.\n",
    "It follows that $ \\frac{\\partial C}{\\partial b} = \\frac{1}{n} \\sum_x (\\sigma(z) - y) $."
   ]
  },
  {
   "cell_type": "code",
   "execution_count": null,
   "metadata": {
    "collapsed": true
   },
   "outputs": [],
   "source": []
  }
 ],
 "metadata": {
  "kernelspec": {
   "display_name": "Python [Root]",
   "language": "python",
   "name": "Python [Root]"
  },
  "language_info": {
   "codemirror_mode": {
    "name": "ipython",
    "version": 3
   },
   "file_extension": ".py",
   "mimetype": "text/x-python",
   "name": "python",
   "nbconvert_exporter": "python",
   "pygments_lexer": "ipython3",
   "version": "3.5.2"
  }
 },
 "nbformat": 4,
 "nbformat_minor": 0
}
