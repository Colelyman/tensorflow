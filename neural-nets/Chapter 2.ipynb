{
 "cells": [
  {
   "cell_type": "markdown",
   "metadata": {},
   "source": [
    "# Chapter 2- Backpropagation\n",
    "\n",
    "Bakpropoagation was originally discovered in the 1970's, but it wasn't until 1986 that it's importance in training neural networks was [fully realized](http://www.nature.com/nature/journal/v323/n6088/pdf/323533a0.pdf). "
   ]
  },
  {
   "cell_type": "markdown",
   "metadata": {},
   "source": [
    "## Fast Matrix-Based Approach\n",
    "\n",
    "Let $ w^l_{jk} $ be the weight from the $ k^{\\rm th} $ neuron in the $ (l - 1)^{\\rm th} $ layer to the $ j^{\\rm th} $ neuron in the $ l^{\\rm th} $ layer. \n",
    "Let $ b^l_{j} $ for the bias of the $ j^{\\rm th} $ neuron in the $ l^{\\rm th} $ layer. \n",
    "Let $ a^l_{j} $ for the activation of the $ j^{\\rm th} $ neuron in the $ l^{\\rm th} $ layer. "
   ]
  },
  {
   "cell_type": "code",
   "execution_count": null,
   "metadata": {
    "collapsed": true
   },
   "outputs": [],
   "source": []
  }
 ],
 "metadata": {
  "kernelspec": {
   "display_name": "Python [Root]",
   "language": "python",
   "name": "Python [Root]"
  },
  "language_info": {
   "codemirror_mode": {
    "name": "ipython",
    "version": 3
   },
   "file_extension": ".py",
   "mimetype": "text/x-python",
   "name": "python",
   "nbconvert_exporter": "python",
   "pygments_lexer": "ipython3",
   "version": "3.5.2"
  }
 },
 "nbformat": 4,
 "nbformat_minor": 0
}
